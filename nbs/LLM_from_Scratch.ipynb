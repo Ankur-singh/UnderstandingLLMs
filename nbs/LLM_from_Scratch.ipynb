{
  "nbformat": 4,
  "nbformat_minor": 0,
  "metadata": {
    "colab": {
      "provenance": [],
      "collapsed_sections": [
        "TnCbXhaPMMeh",
        "ww1QlUJCl-FK"
      ],
      "authorship_tag": "ABX9TyN1iVo5L30oF8J8+XZ1bXLG",
      "include_colab_link": true
    },
    "kernelspec": {
      "name": "python3",
      "display_name": "Python 3"
    },
    "language_info": {
      "name": "python"
    },
    "widgets": {
      "application/vnd.jupyter.widget-state+json": {
        "3613795b095a49df91196ac5205e3edf": {
          "model_module": "@jupyter-widgets/controls",
          "model_name": "HBoxModel",
          "model_module_version": "1.5.0",
          "state": {
            "_dom_classes": [],
            "_model_module": "@jupyter-widgets/controls",
            "_model_module_version": "1.5.0",
            "_model_name": "HBoxModel",
            "_view_count": null,
            "_view_module": "@jupyter-widgets/controls",
            "_view_module_version": "1.5.0",
            "_view_name": "HBoxView",
            "box_style": "",
            "children": [
              "IPY_MODEL_881774527c6742a1b9b2502f789b8471",
              "IPY_MODEL_af654f68bfde4b238f2b7ba9604c3b3d",
              "IPY_MODEL_53afd608fa674b47b124a72d6712e4f7"
            ],
            "layout": "IPY_MODEL_7b102a311e3b40a9b267aa0361fdf6e6"
          }
        },
        "881774527c6742a1b9b2502f789b8471": {
          "model_module": "@jupyter-widgets/controls",
          "model_name": "HTMLModel",
          "model_module_version": "1.5.0",
          "state": {
            "_dom_classes": [],
            "_model_module": "@jupyter-widgets/controls",
            "_model_module_version": "1.5.0",
            "_model_name": "HTMLModel",
            "_view_count": null,
            "_view_module": "@jupyter-widgets/controls",
            "_view_module_version": "1.5.0",
            "_view_name": "HTMLView",
            "description": "",
            "description_tooltip": null,
            "layout": "IPY_MODEL_9c307b97a71b4c06842468926b620ba9",
            "placeholder": "​",
            "style": "IPY_MODEL_b0d314a87ef441978ce8b675515fb53e",
            "value": "Training: 100%"
          }
        },
        "af654f68bfde4b238f2b7ba9604c3b3d": {
          "model_module": "@jupyter-widgets/controls",
          "model_name": "FloatProgressModel",
          "model_module_version": "1.5.0",
          "state": {
            "_dom_classes": [],
            "_model_module": "@jupyter-widgets/controls",
            "_model_module_version": "1.5.0",
            "_model_name": "FloatProgressModel",
            "_view_count": null,
            "_view_module": "@jupyter-widgets/controls",
            "_view_module_version": "1.5.0",
            "_view_name": "ProgressView",
            "bar_style": "success",
            "description": "",
            "description_tooltip": null,
            "layout": "IPY_MODEL_aa48f015a62d4e4cacfd2d7ab578d4b9",
            "max": 395,
            "min": 0,
            "orientation": "horizontal",
            "style": "IPY_MODEL_c8c44d8cf03b49afba69516c0dcb256c",
            "value": 395
          }
        },
        "53afd608fa674b47b124a72d6712e4f7": {
          "model_module": "@jupyter-widgets/controls",
          "model_name": "HTMLModel",
          "model_module_version": "1.5.0",
          "state": {
            "_dom_classes": [],
            "_model_module": "@jupyter-widgets/controls",
            "_model_module_version": "1.5.0",
            "_model_name": "HTMLModel",
            "_view_count": null,
            "_view_module": "@jupyter-widgets/controls",
            "_view_module_version": "1.5.0",
            "_view_name": "HTMLView",
            "description": "",
            "description_tooltip": null,
            "layout": "IPY_MODEL_680aa70ed67047c59f429e744467c16f",
            "placeholder": "​",
            "style": "IPY_MODEL_8aa3795876e14737b599621bd2584894",
            "value": " 395/395 [18:59&lt;00:00,  1.98s/it, [Epoch 0] Val Loss: 6.121]"
          }
        },
        "7b102a311e3b40a9b267aa0361fdf6e6": {
          "model_module": "@jupyter-widgets/base",
          "model_name": "LayoutModel",
          "model_module_version": "1.2.0",
          "state": {
            "_model_module": "@jupyter-widgets/base",
            "_model_module_version": "1.2.0",
            "_model_name": "LayoutModel",
            "_view_count": null,
            "_view_module": "@jupyter-widgets/base",
            "_view_module_version": "1.2.0",
            "_view_name": "LayoutView",
            "align_content": null,
            "align_items": null,
            "align_self": null,
            "border": null,
            "bottom": null,
            "display": null,
            "flex": null,
            "flex_flow": null,
            "grid_area": null,
            "grid_auto_columns": null,
            "grid_auto_flow": null,
            "grid_auto_rows": null,
            "grid_column": null,
            "grid_gap": null,
            "grid_row": null,
            "grid_template_areas": null,
            "grid_template_columns": null,
            "grid_template_rows": null,
            "height": null,
            "justify_content": null,
            "justify_items": null,
            "left": null,
            "margin": null,
            "max_height": null,
            "max_width": null,
            "min_height": null,
            "min_width": null,
            "object_fit": null,
            "object_position": null,
            "order": null,
            "overflow": null,
            "overflow_x": null,
            "overflow_y": null,
            "padding": null,
            "right": null,
            "top": null,
            "visibility": null,
            "width": null
          }
        },
        "9c307b97a71b4c06842468926b620ba9": {
          "model_module": "@jupyter-widgets/base",
          "model_name": "LayoutModel",
          "model_module_version": "1.2.0",
          "state": {
            "_model_module": "@jupyter-widgets/base",
            "_model_module_version": "1.2.0",
            "_model_name": "LayoutModel",
            "_view_count": null,
            "_view_module": "@jupyter-widgets/base",
            "_view_module_version": "1.2.0",
            "_view_name": "LayoutView",
            "align_content": null,
            "align_items": null,
            "align_self": null,
            "border": null,
            "bottom": null,
            "display": null,
            "flex": null,
            "flex_flow": null,
            "grid_area": null,
            "grid_auto_columns": null,
            "grid_auto_flow": null,
            "grid_auto_rows": null,
            "grid_column": null,
            "grid_gap": null,
            "grid_row": null,
            "grid_template_areas": null,
            "grid_template_columns": null,
            "grid_template_rows": null,
            "height": null,
            "justify_content": null,
            "justify_items": null,
            "left": null,
            "margin": null,
            "max_height": null,
            "max_width": null,
            "min_height": null,
            "min_width": null,
            "object_fit": null,
            "object_position": null,
            "order": null,
            "overflow": null,
            "overflow_x": null,
            "overflow_y": null,
            "padding": null,
            "right": null,
            "top": null,
            "visibility": null,
            "width": null
          }
        },
        "b0d314a87ef441978ce8b675515fb53e": {
          "model_module": "@jupyter-widgets/controls",
          "model_name": "DescriptionStyleModel",
          "model_module_version": "1.5.0",
          "state": {
            "_model_module": "@jupyter-widgets/controls",
            "_model_module_version": "1.5.0",
            "_model_name": "DescriptionStyleModel",
            "_view_count": null,
            "_view_module": "@jupyter-widgets/base",
            "_view_module_version": "1.2.0",
            "_view_name": "StyleView",
            "description_width": ""
          }
        },
        "aa48f015a62d4e4cacfd2d7ab578d4b9": {
          "model_module": "@jupyter-widgets/base",
          "model_name": "LayoutModel",
          "model_module_version": "1.2.0",
          "state": {
            "_model_module": "@jupyter-widgets/base",
            "_model_module_version": "1.2.0",
            "_model_name": "LayoutModel",
            "_view_count": null,
            "_view_module": "@jupyter-widgets/base",
            "_view_module_version": "1.2.0",
            "_view_name": "LayoutView",
            "align_content": null,
            "align_items": null,
            "align_self": null,
            "border": null,
            "bottom": null,
            "display": null,
            "flex": null,
            "flex_flow": null,
            "grid_area": null,
            "grid_auto_columns": null,
            "grid_auto_flow": null,
            "grid_auto_rows": null,
            "grid_column": null,
            "grid_gap": null,
            "grid_row": null,
            "grid_template_areas": null,
            "grid_template_columns": null,
            "grid_template_rows": null,
            "height": null,
            "justify_content": null,
            "justify_items": null,
            "left": null,
            "margin": null,
            "max_height": null,
            "max_width": null,
            "min_height": null,
            "min_width": null,
            "object_fit": null,
            "object_position": null,
            "order": null,
            "overflow": null,
            "overflow_x": null,
            "overflow_y": null,
            "padding": null,
            "right": null,
            "top": null,
            "visibility": null,
            "width": null
          }
        },
        "c8c44d8cf03b49afba69516c0dcb256c": {
          "model_module": "@jupyter-widgets/controls",
          "model_name": "ProgressStyleModel",
          "model_module_version": "1.5.0",
          "state": {
            "_model_module": "@jupyter-widgets/controls",
            "_model_module_version": "1.5.0",
            "_model_name": "ProgressStyleModel",
            "_view_count": null,
            "_view_module": "@jupyter-widgets/base",
            "_view_module_version": "1.2.0",
            "_view_name": "StyleView",
            "bar_color": null,
            "description_width": ""
          }
        },
        "680aa70ed67047c59f429e744467c16f": {
          "model_module": "@jupyter-widgets/base",
          "model_name": "LayoutModel",
          "model_module_version": "1.2.0",
          "state": {
            "_model_module": "@jupyter-widgets/base",
            "_model_module_version": "1.2.0",
            "_model_name": "LayoutModel",
            "_view_count": null,
            "_view_module": "@jupyter-widgets/base",
            "_view_module_version": "1.2.0",
            "_view_name": "LayoutView",
            "align_content": null,
            "align_items": null,
            "align_self": null,
            "border": null,
            "bottom": null,
            "display": null,
            "flex": null,
            "flex_flow": null,
            "grid_area": null,
            "grid_auto_columns": null,
            "grid_auto_flow": null,
            "grid_auto_rows": null,
            "grid_column": null,
            "grid_gap": null,
            "grid_row": null,
            "grid_template_areas": null,
            "grid_template_columns": null,
            "grid_template_rows": null,
            "height": null,
            "justify_content": null,
            "justify_items": null,
            "left": null,
            "margin": null,
            "max_height": null,
            "max_width": null,
            "min_height": null,
            "min_width": null,
            "object_fit": null,
            "object_position": null,
            "order": null,
            "overflow": null,
            "overflow_x": null,
            "overflow_y": null,
            "padding": null,
            "right": null,
            "top": null,
            "visibility": null,
            "width": null
          }
        },
        "8aa3795876e14737b599621bd2584894": {
          "model_module": "@jupyter-widgets/controls",
          "model_name": "DescriptionStyleModel",
          "model_module_version": "1.5.0",
          "state": {
            "_model_module": "@jupyter-widgets/controls",
            "_model_module_version": "1.5.0",
            "_model_name": "DescriptionStyleModel",
            "_view_count": null,
            "_view_module": "@jupyter-widgets/base",
            "_view_module_version": "1.2.0",
            "_view_name": "StyleView",
            "description_width": ""
          }
        },
        "90d170f82b894aceb38d1cc7a0b19187": {
          "model_module": "@jupyter-widgets/controls",
          "model_name": "HBoxModel",
          "model_module_version": "1.5.0",
          "state": {
            "_dom_classes": [],
            "_model_module": "@jupyter-widgets/controls",
            "_model_module_version": "1.5.0",
            "_model_name": "HBoxModel",
            "_view_count": null,
            "_view_module": "@jupyter-widgets/controls",
            "_view_module_version": "1.5.0",
            "_view_name": "HBoxView",
            "box_style": "",
            "children": [
              "IPY_MODEL_814c138bcfc0461cbdc417c11bcea457",
              "IPY_MODEL_b93378876e094e459d389579efc150a6",
              "IPY_MODEL_750464c3efa84f6d8d73ba34bb5ed2b0"
            ],
            "layout": "IPY_MODEL_9a28ea9cf0c941ffa65504dd80b6e797"
          }
        },
        "814c138bcfc0461cbdc417c11bcea457": {
          "model_module": "@jupyter-widgets/controls",
          "model_name": "HTMLModel",
          "model_module_version": "1.5.0",
          "state": {
            "_dom_classes": [],
            "_model_module": "@jupyter-widgets/controls",
            "_model_module_version": "1.5.0",
            "_model_name": "HTMLModel",
            "_view_count": null,
            "_view_module": "@jupyter-widgets/controls",
            "_view_module_version": "1.5.0",
            "_view_name": "HTMLView",
            "description": "",
            "description_tooltip": null,
            "layout": "IPY_MODEL_73700e2ebf6643ec93575c9d6f8b9f91",
            "placeholder": "​",
            "style": "IPY_MODEL_e723f34284f24c098c115bacace56461",
            "value": "Training:  58%"
          }
        },
        "b93378876e094e459d389579efc150a6": {
          "model_module": "@jupyter-widgets/controls",
          "model_name": "FloatProgressModel",
          "model_module_version": "1.5.0",
          "state": {
            "_dom_classes": [],
            "_model_module": "@jupyter-widgets/controls",
            "_model_module_version": "1.5.0",
            "_model_name": "FloatProgressModel",
            "_view_count": null,
            "_view_module": "@jupyter-widgets/controls",
            "_view_module_version": "1.5.0",
            "_view_name": "ProgressView",
            "bar_style": "danger",
            "description": "",
            "description_tooltip": null,
            "layout": "IPY_MODEL_d78d9d5a424b4ae28aff3745311a5dfd",
            "max": 395,
            "min": 0,
            "orientation": "horizontal",
            "style": "IPY_MODEL_cade793509954848bb0eb986745549ed",
            "value": 228
          }
        },
        "750464c3efa84f6d8d73ba34bb5ed2b0": {
          "model_module": "@jupyter-widgets/controls",
          "model_name": "HTMLModel",
          "model_module_version": "1.5.0",
          "state": {
            "_dom_classes": [],
            "_model_module": "@jupyter-widgets/controls",
            "_model_module_version": "1.5.0",
            "_model_name": "HTMLModel",
            "_view_count": null,
            "_view_module": "@jupyter-widgets/controls",
            "_view_module_version": "1.5.0",
            "_view_name": "HTMLView",
            "description": "",
            "description_tooltip": null,
            "layout": "IPY_MODEL_1d834a03c8ee4745a9394080a8061456",
            "placeholder": "​",
            "style": "IPY_MODEL_7c34d4b78a0a464eb5d8f0b43e326ebb",
            "value": " 228/395 [10:51&lt;05:26,  1.96s/it, [Epoch 1] Val Loss: 6.019]"
          }
        },
        "9a28ea9cf0c941ffa65504dd80b6e797": {
          "model_module": "@jupyter-widgets/base",
          "model_name": "LayoutModel",
          "model_module_version": "1.2.0",
          "state": {
            "_model_module": "@jupyter-widgets/base",
            "_model_module_version": "1.2.0",
            "_model_name": "LayoutModel",
            "_view_count": null,
            "_view_module": "@jupyter-widgets/base",
            "_view_module_version": "1.2.0",
            "_view_name": "LayoutView",
            "align_content": null,
            "align_items": null,
            "align_self": null,
            "border": null,
            "bottom": null,
            "display": null,
            "flex": null,
            "flex_flow": null,
            "grid_area": null,
            "grid_auto_columns": null,
            "grid_auto_flow": null,
            "grid_auto_rows": null,
            "grid_column": null,
            "grid_gap": null,
            "grid_row": null,
            "grid_template_areas": null,
            "grid_template_columns": null,
            "grid_template_rows": null,
            "height": null,
            "justify_content": null,
            "justify_items": null,
            "left": null,
            "margin": null,
            "max_height": null,
            "max_width": null,
            "min_height": null,
            "min_width": null,
            "object_fit": null,
            "object_position": null,
            "order": null,
            "overflow": null,
            "overflow_x": null,
            "overflow_y": null,
            "padding": null,
            "right": null,
            "top": null,
            "visibility": null,
            "width": null
          }
        },
        "73700e2ebf6643ec93575c9d6f8b9f91": {
          "model_module": "@jupyter-widgets/base",
          "model_name": "LayoutModel",
          "model_module_version": "1.2.0",
          "state": {
            "_model_module": "@jupyter-widgets/base",
            "_model_module_version": "1.2.0",
            "_model_name": "LayoutModel",
            "_view_count": null,
            "_view_module": "@jupyter-widgets/base",
            "_view_module_version": "1.2.0",
            "_view_name": "LayoutView",
            "align_content": null,
            "align_items": null,
            "align_self": null,
            "border": null,
            "bottom": null,
            "display": null,
            "flex": null,
            "flex_flow": null,
            "grid_area": null,
            "grid_auto_columns": null,
            "grid_auto_flow": null,
            "grid_auto_rows": null,
            "grid_column": null,
            "grid_gap": null,
            "grid_row": null,
            "grid_template_areas": null,
            "grid_template_columns": null,
            "grid_template_rows": null,
            "height": null,
            "justify_content": null,
            "justify_items": null,
            "left": null,
            "margin": null,
            "max_height": null,
            "max_width": null,
            "min_height": null,
            "min_width": null,
            "object_fit": null,
            "object_position": null,
            "order": null,
            "overflow": null,
            "overflow_x": null,
            "overflow_y": null,
            "padding": null,
            "right": null,
            "top": null,
            "visibility": null,
            "width": null
          }
        },
        "e723f34284f24c098c115bacace56461": {
          "model_module": "@jupyter-widgets/controls",
          "model_name": "DescriptionStyleModel",
          "model_module_version": "1.5.0",
          "state": {
            "_model_module": "@jupyter-widgets/controls",
            "_model_module_version": "1.5.0",
            "_model_name": "DescriptionStyleModel",
            "_view_count": null,
            "_view_module": "@jupyter-widgets/base",
            "_view_module_version": "1.2.0",
            "_view_name": "StyleView",
            "description_width": ""
          }
        },
        "d78d9d5a424b4ae28aff3745311a5dfd": {
          "model_module": "@jupyter-widgets/base",
          "model_name": "LayoutModel",
          "model_module_version": "1.2.0",
          "state": {
            "_model_module": "@jupyter-widgets/base",
            "_model_module_version": "1.2.0",
            "_model_name": "LayoutModel",
            "_view_count": null,
            "_view_module": "@jupyter-widgets/base",
            "_view_module_version": "1.2.0",
            "_view_name": "LayoutView",
            "align_content": null,
            "align_items": null,
            "align_self": null,
            "border": null,
            "bottom": null,
            "display": null,
            "flex": null,
            "flex_flow": null,
            "grid_area": null,
            "grid_auto_columns": null,
            "grid_auto_flow": null,
            "grid_auto_rows": null,
            "grid_column": null,
            "grid_gap": null,
            "grid_row": null,
            "grid_template_areas": null,
            "grid_template_columns": null,
            "grid_template_rows": null,
            "height": null,
            "justify_content": null,
            "justify_items": null,
            "left": null,
            "margin": null,
            "max_height": null,
            "max_width": null,
            "min_height": null,
            "min_width": null,
            "object_fit": null,
            "object_position": null,
            "order": null,
            "overflow": null,
            "overflow_x": null,
            "overflow_y": null,
            "padding": null,
            "right": null,
            "top": null,
            "visibility": null,
            "width": null
          }
        },
        "cade793509954848bb0eb986745549ed": {
          "model_module": "@jupyter-widgets/controls",
          "model_name": "ProgressStyleModel",
          "model_module_version": "1.5.0",
          "state": {
            "_model_module": "@jupyter-widgets/controls",
            "_model_module_version": "1.5.0",
            "_model_name": "ProgressStyleModel",
            "_view_count": null,
            "_view_module": "@jupyter-widgets/base",
            "_view_module_version": "1.2.0",
            "_view_name": "StyleView",
            "bar_color": null,
            "description_width": ""
          }
        },
        "1d834a03c8ee4745a9394080a8061456": {
          "model_module": "@jupyter-widgets/base",
          "model_name": "LayoutModel",
          "model_module_version": "1.2.0",
          "state": {
            "_model_module": "@jupyter-widgets/base",
            "_model_module_version": "1.2.0",
            "_model_name": "LayoutModel",
            "_view_count": null,
            "_view_module": "@jupyter-widgets/base",
            "_view_module_version": "1.2.0",
            "_view_name": "LayoutView",
            "align_content": null,
            "align_items": null,
            "align_self": null,
            "border": null,
            "bottom": null,
            "display": null,
            "flex": null,
            "flex_flow": null,
            "grid_area": null,
            "grid_auto_columns": null,
            "grid_auto_flow": null,
            "grid_auto_rows": null,
            "grid_column": null,
            "grid_gap": null,
            "grid_row": null,
            "grid_template_areas": null,
            "grid_template_columns": null,
            "grid_template_rows": null,
            "height": null,
            "justify_content": null,
            "justify_items": null,
            "left": null,
            "margin": null,
            "max_height": null,
            "max_width": null,
            "min_height": null,
            "min_width": null,
            "object_fit": null,
            "object_position": null,
            "order": null,
            "overflow": null,
            "overflow_x": null,
            "overflow_y": null,
            "padding": null,
            "right": null,
            "top": null,
            "visibility": null,
            "width": null
          }
        },
        "7c34d4b78a0a464eb5d8f0b43e326ebb": {
          "model_module": "@jupyter-widgets/controls",
          "model_name": "DescriptionStyleModel",
          "model_module_version": "1.5.0",
          "state": {
            "_model_module": "@jupyter-widgets/controls",
            "_model_module_version": "1.5.0",
            "_model_name": "DescriptionStyleModel",
            "_view_count": null,
            "_view_module": "@jupyter-widgets/base",
            "_view_module_version": "1.2.0",
            "_view_name": "StyleView",
            "description_width": ""
          }
        }
      }
    }
  },
  "cells": [
    {
      "cell_type": "markdown",
      "metadata": {
        "id": "view-in-github",
        "colab_type": "text"
      },
      "source": [
        "<a href=\"https://colab.research.google.com/github/Ankur-singh/UnderstandingLLMs/blob/main/nbs/LLM_from_Scratch.ipynb\" target=\"_parent\"><img src=\"https://colab.research.google.com/assets/colab-badge.svg\" alt=\"Open In Colab\"/></a>"
      ]
    },
    {
      "cell_type": "markdown",
      "source": [
        "# Introduction"
      ],
      "metadata": {
        "id": "x8eV9JOoBw2Q"
      }
    },
    {
      "cell_type": "markdown",
      "source": [
        "To create a minimal GPT-style model, the following core components are required:\n",
        "\n",
        "* **Model Architecture**: The neural network design that defines how tokens are processed and how contextual relationships are modeled.\n",
        "* **Inference (Next Token Generation)**: The mechanism that uses the trained model to generate the next token based on input tokens.\n",
        "* **Data for Training**: A dataset of tokenized text used to train the model.\n",
        "* **Training Loop**: The process that iteratively updates the model's parameters to minimize prediction error.\n",
        "\n",
        "Each component will be implemented in the simplest form to ensure clarity of how they function individually and as a complete system. Later notebooks will build upon this foundation, introducing improvements and optimizations to each part."
      ],
      "metadata": {
        "id": "L--MuAtyTJR7"
      }
    },
    {
      "cell_type": "code",
      "source": [
        "!pip install -Uq torch\n",
        "!pip install -Uq datasets tiktoken"
      ],
      "metadata": {
        "id": "9uk85R52PBg-",
        "colab": {
          "base_uri": "https://localhost:8080/"
        },
        "outputId": "1a44ff40-f381-490f-b4c4-f10f4934fdd8"
      },
      "execution_count": 12,
      "outputs": [
        {
          "output_type": "stream",
          "name": "stdout",
          "text": [
            "\u001b[2K   \u001b[90m━━━━━━━━━━━━━━━━━━━━━━━━━━━━━━━━━━━━━━━━\u001b[0m \u001b[32m821.2/821.2 MB\u001b[0m \u001b[31m1.8 MB/s\u001b[0m eta \u001b[36m0:00:00\u001b[0m\n",
            "\u001b[2K   \u001b[90m━━━━━━━━━━━━━━━━━━━━━━━━━━━━━━━━━━━━━━━━\u001b[0m \u001b[32m393.1/393.1 MB\u001b[0m \u001b[31m3.7 MB/s\u001b[0m eta \u001b[36m0:00:00\u001b[0m\n",
            "\u001b[2K   \u001b[90m━━━━━━━━━━━━━━━━━━━━━━━━━━━━━━━━━━━━━━━━\u001b[0m \u001b[32m8.9/8.9 MB\u001b[0m \u001b[31m110.7 MB/s\u001b[0m eta \u001b[36m0:00:00\u001b[0m\n",
            "\u001b[2K   \u001b[90m━━━━━━━━━━━━━━━━━━━━━━━━━━━━━━━━━━━━━━━━\u001b[0m \u001b[32m23.7/23.7 MB\u001b[0m \u001b[31m71.0 MB/s\u001b[0m eta \u001b[36m0:00:00\u001b[0m\n",
            "\u001b[2K   \u001b[90m━━━━━━━━━━━━━━━━━━━━━━━━━━━━━━━━━━━━━━━━\u001b[0m \u001b[32m897.7/897.7 kB\u001b[0m \u001b[31m48.1 MB/s\u001b[0m eta \u001b[36m0:00:00\u001b[0m\n",
            "\u001b[2K   \u001b[90m━━━━━━━━━━━━━━━━━━━━━━━━━━━━━━━━━━━━━━━━\u001b[0m \u001b[32m571.0/571.0 MB\u001b[0m \u001b[31m2.7 MB/s\u001b[0m eta \u001b[36m0:00:00\u001b[0m\n",
            "\u001b[2K   \u001b[90m━━━━━━━━━━━━━━━━━━━━━━━━━━━━━━━━━━━━━━━━\u001b[0m \u001b[32m200.2/200.2 MB\u001b[0m \u001b[31m6.3 MB/s\u001b[0m eta \u001b[36m0:00:00\u001b[0m\n",
            "\u001b[2K   \u001b[90m━━━━━━━━━━━━━━━━━━━━━━━━━━━━━━━━━━━━━━━━\u001b[0m \u001b[32m1.1/1.1 MB\u001b[0m \u001b[31m65.4 MB/s\u001b[0m eta \u001b[36m0:00:00\u001b[0m\n",
            "\u001b[2K   \u001b[90m━━━━━━━━━━━━━━━━━━━━━━━━━━━━━━━━━━━━━━━━\u001b[0m \u001b[32m56.3/56.3 MB\u001b[0m \u001b[31m13.4 MB/s\u001b[0m eta \u001b[36m0:00:00\u001b[0m\n",
            "\u001b[2K   \u001b[90m━━━━━━━━━━━━━━━━━━━━━━━━━━━━━━━━━━━━━━━━\u001b[0m \u001b[32m158.2/158.2 MB\u001b[0m \u001b[31m7.5 MB/s\u001b[0m eta \u001b[36m0:00:00\u001b[0m\n",
            "\u001b[2K   \u001b[90m━━━━━━━━━━━━━━━━━━━━━━━━━━━━━━━━━━━━━━━━\u001b[0m \u001b[32m216.6/216.6 MB\u001b[0m \u001b[31m6.2 MB/s\u001b[0m eta \u001b[36m0:00:00\u001b[0m\n",
            "\u001b[2K   \u001b[90m━━━━━━━━━━━━━━━━━━━━━━━━━━━━━━━━━━━━━━━━\u001b[0m \u001b[32m156.8/156.8 MB\u001b[0m \u001b[31m7.3 MB/s\u001b[0m eta \u001b[36m0:00:00\u001b[0m\n",
            "\u001b[2K   \u001b[90m━━━━━━━━━━━━━━━━━━━━━━━━━━━━━━━━━━━━━━━━\u001b[0m \u001b[32m201.3/201.3 MB\u001b[0m \u001b[31m6.3 MB/s\u001b[0m eta \u001b[36m0:00:00\u001b[0m\n",
            "\u001b[2K   \u001b[90m━━━━━━━━━━━━━━━━━━━━━━━━━━━━━━━━━━━━━━━━\u001b[0m \u001b[32m19.7/19.7 MB\u001b[0m \u001b[31m71.3 MB/s\u001b[0m eta \u001b[36m0:00:00\u001b[0m\n",
            "\u001b[2K   \u001b[90m━━━━━━━━━━━━━━━━━━━━━━━━━━━━━━━━━━━━━━━━\u001b[0m \u001b[32m89.3/89.3 kB\u001b[0m \u001b[31m8.9 MB/s\u001b[0m eta \u001b[36m0:00:00\u001b[0m\n",
            "\u001b[2K   \u001b[90m━━━━━━━━━━━━━━━━━━━━━━━━━━━━━━━━━━━━━━━━\u001b[0m \u001b[32m155.7/155.7 MB\u001b[0m \u001b[31m6.5 MB/s\u001b[0m eta \u001b[36m0:00:00\u001b[0m\n",
            "\u001b[2K   \u001b[90m━━━━━━━━━━━━━━━━━━━━━━━━━━━━━━━━━━━━━━━━\u001b[0m \u001b[32m6.3/6.3 MB\u001b[0m \u001b[31m65.2 MB/s\u001b[0m eta \u001b[36m0:00:00\u001b[0m\n",
            "\u001b[?25h\u001b[31mERROR: pip's dependency resolver does not currently take into account all the packages that are installed. This behaviour is the source of the following dependency conflicts.\n",
            "torchvision 0.21.0+cu124 requires torch==2.6.0, but you have torch 2.7.1 which is incompatible.\n",
            "torchaudio 2.6.0+cu124 requires torch==2.6.0, but you have torch 2.7.1 which is incompatible.\n",
            "fastai 2.7.19 requires torch<2.7,>=1.10, but you have torch 2.7.1 which is incompatible.\u001b[0m\u001b[31m\n",
            "\u001b[2K   \u001b[90m━━━━━━━━━━━━━━━━━━━━━━━━━━━━━━━━━━━━━━━━\u001b[0m \u001b[32m494.8/494.8 kB\u001b[0m \u001b[31m14.8 MB/s\u001b[0m eta \u001b[36m0:00:00\u001b[0m\n",
            "\u001b[2K   \u001b[90m━━━━━━━━━━━━━━━━━━━━━━━━━━━━━━━━━━━━━━━━\u001b[0m \u001b[32m193.6/193.6 kB\u001b[0m \u001b[31m17.8 MB/s\u001b[0m eta \u001b[36m0:00:00\u001b[0m\n",
            "\u001b[?25h\u001b[31mERROR: pip's dependency resolver does not currently take into account all the packages that are installed. This behaviour is the source of the following dependency conflicts.\n",
            "torchvision 0.21.0+cu124 requires torch==2.6.0, but you have torch 2.7.1 which is incompatible.\n",
            "gcsfs 2025.3.2 requires fsspec==2025.3.2, but you have fsspec 2025.3.0 which is incompatible.\n",
            "torchaudio 2.6.0+cu124 requires torch==2.6.0, but you have torch 2.7.1 which is incompatible.\n",
            "fastai 2.7.19 requires torch<2.7,>=1.10, but you have torch 2.7.1 which is incompatible.\u001b[0m\u001b[31m\n",
            "\u001b[0m"
          ]
        }
      ]
    },
    {
      "cell_type": "code",
      "source": [
        "import torch\n",
        "import torch.nn as nn\n",
        "import torch.nn.functional as F\n",
        "from torch.utils.data import Dataset, DataLoader\n",
        "\n",
        "# Misc\n",
        "import math\n",
        "import tiktoken\n",
        "from tqdm.notebook import tqdm\n",
        "from datasets import load_dataset\n",
        "from dataclasses import dataclass\n",
        "from prettytable import PrettyTable"
      ],
      "metadata": {
        "id": "s5XeSzni5YQz"
      },
      "execution_count": 1,
      "outputs": []
    },
    {
      "cell_type": "markdown",
      "source": [
        "# Model Architecture"
      ],
      "metadata": {
        "id": "TMs_C9uRMJjv"
      }
    },
    {
      "cell_type": "markdown",
      "source": [
        "We will start by first defining the model architecture and try to generate some text to make sure everything is working as expected"
      ],
      "metadata": {
        "id": "DVwZgUVQ4yvi"
      }
    },
    {
      "cell_type": "code",
      "source": [
        "class MultiheadAttention(nn.Module):\n",
        "    def __init__(self, emb_dim, heads, context):\n",
        "        super().__init__()\n",
        "        assert emb_dim % heads == 0, \"`emb_dim` should be a multiple of `heads`\"\n",
        "        self.context = context\n",
        "        self.mha = nn.MultiheadAttention(emb_dim, heads, batch_first=True)\n",
        "        self.proj = nn.Linear(emb_dim, emb_dim)\n",
        "        self.register_buffer(\"mask\", torch.triu(torch.ones(context, context), diagonal=1).bool())\n",
        "\n",
        "    def forward(self, x):\n",
        "        batch, seq_len, _ = x.shape\n",
        "        seq_len = min(seq_len, self.context)\n",
        "        attn_mask = self.mask[:seq_len, :seq_len]\n",
        "        attn_out, _ = self.mha(x,x,x,attn_mask=attn_mask, need_weights=False)\n",
        "        return self.proj(attn_out)\n",
        "\n",
        "class Block(nn.Module):\n",
        "    def __init__(self, emb_dim, heads, context):\n",
        "        super().__init__()\n",
        "        self.mha = MultiheadAttention(emb_dim, heads, context)\n",
        "        self.mlp = nn.Sequential(\n",
        "                        nn.Linear(emb_dim, 4 * emb_dim),\n",
        "                        nn.GELU(),\n",
        "                        nn.Linear(4 * emb_dim, emb_dim)\n",
        "                    )\n",
        "        self.sa_norm = nn.LayerNorm(emb_dim)\n",
        "        self.mlp_norm = nn.LayerNorm(emb_dim)\n",
        "\n",
        "    def forward(self, x):\n",
        "        x = x + self.mha(self.sa_norm(x))\n",
        "        x = x + self.mlp(self.mlp_norm(x))\n",
        "        return x\n",
        "\n",
        "class GPT(nn.Module):\n",
        "    def __init__(self, config):\n",
        "        super().__init__()\n",
        "        self.pos_embedding = nn.Embedding(config.context, config.emb_dim)\n",
        "        self.tok_embedding = nn.Embedding(config.vocab, config.emb_dim)\n",
        "        self.decoder = nn.Sequential(*[Block(config.emb_dim, config.heads, config.context)\n",
        "                                        for _ in range(config.layers)])\n",
        "        self.output = nn.Linear(config.emb_dim, config.vocab, bias=False)\n",
        "        self.norm = nn.LayerNorm(config.emb_dim)\n",
        "\n",
        "    def forward(self, x):\n",
        "        batch, seq_len = x.shape\n",
        "        pos = torch.arange(seq_len, device=x.device)\n",
        "        x = self.tok_embedding(x) + self.pos_embedding(pos)\n",
        "        x = self.decoder(x)\n",
        "        return self.output(self.norm(x))\n",
        "\n",
        "    @property\n",
        "    def device(self):\n",
        "        return next(self.parameters()).device"
      ],
      "metadata": {
        "id": "LupZ_JzQ8oBJ"
      },
      "execution_count": 2,
      "outputs": []
    },
    {
      "cell_type": "code",
      "source": [
        "@dataclass\n",
        "class ModelConfig:\n",
        "    # GPT2 architecture\n",
        "    vocab: int   = math.ceil(50_257 / 64) * 64 # nearest multiple of 64\n",
        "    emb_dim: int = 768\n",
        "    heads: int   = 12\n",
        "    layers: int  = 12\n",
        "    context: int = 1024\n",
        "\n",
        "device = \"cuda\" if torch.cuda.is_available() else \"cpu\"\n",
        "model = GPT(ModelConfig)\n",
        "model = model.to(device)"
      ],
      "metadata": {
        "id": "Q0aJiSMGymEi"
      },
      "execution_count": 3,
      "outputs": []
    },
    {
      "cell_type": "code",
      "source": [
        "# Utility Function: Number of Trainable Parameters\n",
        "def count_parameters(model, verbose=False):\n",
        "    if verbose:\n",
        "        table = PrettyTable([\"Module\", \"Parameters\"])\n",
        "        total = 0\n",
        "        for name, param in model.named_parameters():\n",
        "            if param.requires_grad:\n",
        "                count = param.numel()\n",
        "                table.add_row([name, count])\n",
        "                total += count\n",
        "        print(table)\n",
        "    else:\n",
        "        total = sum(p.numel() for p in model.parameters() if p.requires_grad)\n",
        "    print(f\"Total Trainable Params: {total / 1e6:.2f} M\")\n",
        "\n",
        "count_parameters(model)"
      ],
      "metadata": {
        "colab": {
          "base_uri": "https://localhost:8080/"
        },
        "id": "mJx4YP0dUiPU",
        "outputId": "ddb31bbd-a93d-42e5-ccf9-1f3ca2dd35f3"
      },
      "execution_count": 4,
      "outputs": [
        {
          "output_type": "stream",
          "name": "stdout",
          "text": [
            "Total Trainable Params: 170.20 M\n"
          ]
        }
      ]
    },
    {
      "cell_type": "markdown",
      "source": [
        "Based on my calculations, this looks good.\n",
        "\n",
        "> **Note:** This is not exactly save as GPT2 (124M). That is because of **no weight-tying** and other small difference. Read [this](https://www.perplexity.ai/search/weight-tying-gpt2-bgeVq5MzTbC2v8d5NEFx_g) for details.    "
      ],
      "metadata": {
        "id": "reBjTnKx5SXe"
      }
    },
    {
      "cell_type": "markdown",
      "source": [
        "# Inference (Next Token Generation)"
      ],
      "metadata": {
        "id": "j0cCGvf7cIH1"
      }
    },
    {
      "cell_type": "code",
      "source": [
        "tokenizer = tiktoken.get_encoding(\"gpt2\")"
      ],
      "metadata": {
        "id": "e6PZvXNO3_U4"
      },
      "execution_count": 5,
      "outputs": []
    },
    {
      "cell_type": "code",
      "source": [
        "@torch.no_grad()\n",
        "def generate(model, tokenizer, prefix, max_new_tokens=10):\n",
        "    model.eval()\n",
        "    token_ids = torch.tensor(tokenizer.encode(prefix), device=device).unsqueeze(0)\n",
        "    for _ in range(max_new_tokens):\n",
        "        logits = model(token_ids)\n",
        "        logits = logits[:, -1, :]\n",
        "        next_idx = torch.argmax(logits, dim=-1, keepdim=True)\n",
        "        prefix += tokenizer.decode([next_idx.cpu()])\n",
        "        token_ids = torch.cat((token_ids, next_idx), dim=1)\n",
        "    return prefix\n",
        "\n",
        "prefix = \"Once upon a time\"\n",
        "print(generate(model, tokenizer, prefix))"
      ],
      "metadata": {
        "colab": {
          "base_uri": "https://localhost:8080/"
        },
        "id": "lNsIw9W1WdhB",
        "outputId": "f9d8b035-aea4-49ab-da05-caa144bd63a8"
      },
      "execution_count": 6,
      "outputs": [
        {
          "output_type": "stream",
          "name": "stdout",
          "text": [
            "Once upon a timeosexual arguably weakness compan commander abolish Layer cornerstone 445 Dharma\n"
          ]
        }
      ]
    },
    {
      "cell_type": "markdown",
      "source": [
        "The generated text is all gibrish are the model is not trained yet.\n",
        "\n",
        "> **Note:** We will keep getting the same output if we run the above cell multiple times, as there is no randomness in sampling process. We initialize the model with random weights and that is it. So, we must reinitialize our model to get different output."
      ],
      "metadata": {
        "id": "GVWDydBNc_cx"
      }
    },
    {
      "cell_type": "markdown",
      "source": [
        "# Data"
      ],
      "metadata": {
        "id": "TnCbXhaPMMeh"
      }
    },
    {
      "cell_type": "code",
      "source": [
        "dataset = load_dataset(\"wikitext\", \"wikitext-2-raw-v1\")\n",
        "dataset"
      ],
      "metadata": {
        "colab": {
          "base_uri": "https://localhost:8080/"
        },
        "id": "rhLHZ_vAM-0T",
        "outputId": "1efe2ab0-87a5-4e31-f7de-3457d52e0465"
      },
      "execution_count": null,
      "outputs": [
        {
          "output_type": "stream",
          "name": "stderr",
          "text": [
            "/usr/local/lib/python3.11/dist-packages/huggingface_hub/utils/_auth.py:86: UserWarning: \n",
            "Access to the secret `HF_TOKEN` has not been granted on this notebook.\n",
            "You will not be requested again.\n",
            "Please restart the session if you want to be prompted again.\n",
            "  warnings.warn(\n"
          ]
        },
        {
          "output_type": "execute_result",
          "data": {
            "text/plain": [
              "DatasetDict({\n",
              "    test: Dataset({\n",
              "        features: ['text'],\n",
              "        num_rows: 4358\n",
              "    })\n",
              "    train: Dataset({\n",
              "        features: ['text'],\n",
              "        num_rows: 36718\n",
              "    })\n",
              "    validation: Dataset({\n",
              "        features: ['text'],\n",
              "        num_rows: 3760\n",
              "    })\n",
              "})"
            ]
          },
          "metadata": {},
          "execution_count": 7
        }
      ]
    },
    {
      "cell_type": "code",
      "source": [
        "val_ds = \"\\n\\n\".join(dataset[\"test\"][\"text\"])\n",
        "train_ds = \"\\n\\n\".join(dataset[\"train\"][\"text\"])\n",
        "\n",
        "val_tokens = tokenizer.encode(val_ds)\n",
        "train_tokens = tokenizer.encode(train_ds)\n",
        "len(val_tokens), len(train_tokens)"
      ],
      "metadata": {
        "colab": {
          "base_uri": "https://localhost:8080/"
        },
        "id": "ZnMjCBdsdxAm",
        "outputId": "02f1b74f-e91a-4aaa-b1db-fee6ee4d4138"
      },
      "execution_count": null,
      "outputs": [
        {
          "output_type": "execute_result",
          "data": {
            "text/plain": [
              "(287644, 2428601)"
            ]
          },
          "metadata": {},
          "execution_count": 8
        }
      ]
    },
    {
      "cell_type": "code",
      "source": [
        "class WikiTextDataset(Dataset):\n",
        "    def __init__(self, tokens, max_len):\n",
        "        self.tokens = tokens\n",
        "        self.max_len = max_len\n",
        "\n",
        "    def __getitem__(self, idx):\n",
        "        idx = idx * self.max_len\n",
        "        x = self.tokens[idx: idx + self.max_len]\n",
        "        y = self.tokens[idx+1: idx+1 + self.max_len]\n",
        "        if len(x) < self.max_len:\n",
        "            x = x + [tokenizer.eot_token] * (self.max_len - len(x))\n",
        "        if len(y) < self.max_len:\n",
        "            y = y + [tokenizer.eot_token] * (self.max_len - len(y))\n",
        "        return (torch.tensor(x),torch.tensor(y))\n",
        "\n",
        "    def __len__(self):\n",
        "        return math.ceil(len(self.tokens)/self.max_len)\n",
        "\n",
        "val_ds = WikiTextDataset(val_tokens, ModelConfig.context)\n",
        "train_ds = WikiTextDataset(train_tokens, ModelConfig.context)\n",
        "len(val_ds), len(train_ds)"
      ],
      "metadata": {
        "id": "QasG15ZkENVs",
        "colab": {
          "base_uri": "https://localhost:8080/"
        },
        "outputId": "275657f8-09b1-4867-e6d8-ca0e219824e9"
      },
      "execution_count": null,
      "outputs": [
        {
          "output_type": "execute_result",
          "data": {
            "text/plain": [
              "(281, 2372)"
            ]
          },
          "metadata": {},
          "execution_count": 9
        }
      ]
    },
    {
      "cell_type": "code",
      "source": [
        "batch_size = 6\n",
        "val_dl = DataLoader(val_ds, batch_size=batch_size, shuffle=False, drop_last=True)\n",
        "train_dl = DataLoader(train_ds, batch_size=batch_size, shuffle=True, drop_last=True)"
      ],
      "metadata": {
        "id": "Cxxg7rzekZYU"
      },
      "execution_count": null,
      "outputs": []
    },
    {
      "cell_type": "code",
      "source": [
        "next(iter(val_dl))"
      ],
      "metadata": {
        "colab": {
          "base_uri": "https://localhost:8080/"
        },
        "id": "ZYdZK3WNk_9c",
        "outputId": "90ad0ed0-b771-4187-a042-5483310e45f7"
      },
      "execution_count": null,
      "outputs": [
        {
          "output_type": "execute_result",
          "data": {
            "text/plain": [
              "[tensor([[  628,   796,  5199,  ...,   290, 43823, 24265],\n",
              "         [ 7924,   416,   440,  ...,   272,   764,   679],\n",
              "         [ 4054,   837,   284,  ...,   262,  3931,   286],\n",
              "         [  767,  3365,   339,  ...,    84, 28599,   764],\n",
              "         [ 1881,   286,   262,  ...,  2630,   257,  3704],\n",
              "         [11749, 10343, 13333,  ...,   406,   131,   250]]),\n",
              " tensor([[  796,  5199,   347,  ..., 43823, 24265,  7924],\n",
              "         [  416,   440, 12810,  ...,   764,   679,  4054],\n",
              "         [  837,   284,   465,  ...,  3931,   286,   767],\n",
              "         [ 3365,   339,   373,  ..., 28599,   764,  1881],\n",
              "         [  286,   262, 14555,  ...,   257,  3704, 11749],\n",
              "         [10343, 13333,   290,  ...,   131,   250, 44019]])]"
            ]
          },
          "metadata": {},
          "execution_count": 11
        }
      ]
    },
    {
      "cell_type": "markdown",
      "source": [
        "# Training Loop"
      ],
      "metadata": {
        "id": "ww1QlUJCl-FK"
      }
    },
    {
      "cell_type": "code",
      "source": [
        "@torch.no_grad()\n",
        "def evaluate(model, dl):\n",
        "    model.eval()\n",
        "    loss = 0\n",
        "    for (x,y) in dl:\n",
        "        x, y = x.to(device), y.to(device)\n",
        "        logits = model(x)\n",
        "        loss += F.cross_entropy(logits.flatten(0, 1), y.flatten()).cpu().item()\n",
        "    model.train()\n",
        "    return loss / len(dl)"
      ],
      "metadata": {
        "id": "j-m9A4POpH6a"
      },
      "execution_count": null,
      "outputs": []
    },
    {
      "cell_type": "code",
      "source": [
        "model.to(device)\n",
        "evaluate(model, val_dl)"
      ],
      "metadata": {
        "colab": {
          "base_uri": "https://localhost:8080/"
        },
        "id": "SLFjYmQaxr20",
        "outputId": "d1be3a73-3898-4a87-cb21-01729200140a"
      },
      "execution_count": null,
      "outputs": [
        {
          "output_type": "execute_result",
          "data": {
            "text/plain": [
              "11.029688192450482"
            ]
          },
          "metadata": {},
          "execution_count": 13
        }
      ]
    },
    {
      "cell_type": "markdown",
      "source": [
        "This looks right, initially the probability will be evenly distributed i.e. each token will roughly have the same probability. As result, we can calculated the expected value of loss `-ln(1/50304) ~= 10.826`"
      ],
      "metadata": {
        "id": "35j6Vnnn_0gi"
      }
    },
    {
      "cell_type": "code",
      "source": [
        "optimizer = torch.optim.AdamW(model.parameters(), lr=1e-4)"
      ],
      "metadata": {
        "id": "BvNirmKsurXn"
      },
      "execution_count": null,
      "outputs": []
    },
    {
      "cell_type": "code",
      "source": [
        "log_freq = 40\n",
        "epochs = 2\n",
        "losses = []\n",
        "\n",
        "for epoch in range(epochs):\n",
        "    for i, (x,y) in enumerate(pbar := tqdm(train_dl, desc=\"Training\")):\n",
        "        if i % log_freq == 0:\n",
        "            val_loss = evaluate(model, val_dl)\n",
        "            losses.append(val_loss)\n",
        "            pbar.set_postfix_str(f\"[Epoch {epoch}] Val Loss: {val_loss:.3f}\")\n",
        "            torch.save(model.state_dict(), \"model.pth\")\n",
        "            print(\"=\"*20)\n",
        "            print(generate(model, tokenizer, prefix))\n",
        "\n",
        "        model.train()\n",
        "        x, y = x.to(device), y.to(device)\n",
        "        logits = model(x)\n",
        "        loss = F.cross_entropy(logits.flatten(0,1), y.flatten())\n",
        "\n",
        "        optimizer.zero_grad()\n",
        "        loss.backward()\n",
        "        optimizer.step()"
      ],
      "metadata": {
        "colab": {
          "base_uri": "https://localhost:8080/",
          "height": 1000,
          "referenced_widgets": [
            "3613795b095a49df91196ac5205e3edf",
            "881774527c6742a1b9b2502f789b8471",
            "af654f68bfde4b238f2b7ba9604c3b3d",
            "53afd608fa674b47b124a72d6712e4f7",
            "7b102a311e3b40a9b267aa0361fdf6e6",
            "9c307b97a71b4c06842468926b620ba9",
            "b0d314a87ef441978ce8b675515fb53e",
            "aa48f015a62d4e4cacfd2d7ab578d4b9",
            "c8c44d8cf03b49afba69516c0dcb256c",
            "680aa70ed67047c59f429e744467c16f",
            "8aa3795876e14737b599621bd2584894",
            "90d170f82b894aceb38d1cc7a0b19187",
            "814c138bcfc0461cbdc417c11bcea457",
            "b93378876e094e459d389579efc150a6",
            "750464c3efa84f6d8d73ba34bb5ed2b0",
            "9a28ea9cf0c941ffa65504dd80b6e797",
            "73700e2ebf6643ec93575c9d6f8b9f91",
            "e723f34284f24c098c115bacace56461",
            "d78d9d5a424b4ae28aff3745311a5dfd",
            "cade793509954848bb0eb986745549ed",
            "1d834a03c8ee4745a9394080a8061456",
            "7c34d4b78a0a464eb5d8f0b43e326ebb"
          ]
        },
        "id": "ggJhPAKJlC2t",
        "outputId": "b5258340-9313-4204-8675-9bf9365b7e7c"
      },
      "execution_count": null,
      "outputs": [
        {
          "output_type": "display_data",
          "data": {
            "text/plain": [
              "Training:   0%|          | 0/395 [00:00<?, ?it/s]"
            ],
            "application/vnd.jupyter.widget-view+json": {
              "version_major": 2,
              "version_minor": 0,
              "model_id": "3613795b095a49df91196ac5205e3edf"
            }
          },
          "metadata": {}
        },
        {
          "output_type": "stream",
          "name": "stdout",
          "text": [
            "====================\n",
            "Once upon a time , and the first time , and the first to\n",
            "====================\n",
            "Once upon a time , and the first time , and the first time\n",
            "====================\n",
            "Once upon a time . \n",
            "\n",
            "\n",
            " = = = = = =\n",
            "====================\n",
            "Once upon a time , and the first time , and the first time\n",
            "====================\n",
            "Once upon a time , and the first time . The first time ,\n",
            "====================\n",
            "Once upon a time . \n",
            "\n",
            "\n",
            " = = = = = =\n",
            "====================\n",
            "Once upon a time . \n",
            "\n",
            "\n",
            " = = = = = =\n",
            "====================\n",
            "Once upon a time . \n",
            "\n",
            "\n",
            " = = = = = \n",
            "====================\n",
            "Once upon a time in the first time . \n",
            "\n",
            "\n",
            " = =\n",
            "====================\n",
            "Once upon a time in the first time . \n",
            "\n",
            "\n",
            " = =\n"
          ]
        },
        {
          "output_type": "display_data",
          "data": {
            "text/plain": [
              "Training:   0%|          | 0/395 [00:00<?, ?it/s]"
            ],
            "application/vnd.jupyter.widget-view+json": {
              "version_major": 2,
              "version_minor": 0,
              "model_id": "90d170f82b894aceb38d1cc7a0b19187"
            }
          },
          "metadata": {}
        },
        {
          "output_type": "stream",
          "name": "stdout",
          "text": [
            "====================\n",
            "Once upon a time of the first time of the United States . The\n",
            "====================\n",
            "Once upon a time of the first time . The first time , the\n",
            "====================\n",
            "Once upon a time of the first time of the United States . \n",
            "====================\n",
            "Once upon a time of the first time , the United States , the\n",
            "====================\n",
            "Once upon a time of the first time . The first time of the\n",
            "====================\n",
            "Once upon a time in the first game . \n",
            "\n",
            "\n",
            " The first\n"
          ]
        },
        {
          "output_type": "error",
          "ename": "KeyboardInterrupt",
          "evalue": "",
          "traceback": [
            "\u001b[0;31m---------------------------------------------------------------------------\u001b[0m",
            "\u001b[0;31mKeyboardInterrupt\u001b[0m                         Traceback (most recent call last)",
            "\u001b[0;32m/tmp/ipython-input-16-3603305823.py\u001b[0m in \u001b[0;36m<cell line: 0>\u001b[0;34m()\u001b[0m\n\u001b[1;32m     14\u001b[0m \u001b[0;34m\u001b[0m\u001b[0m\n\u001b[1;32m     15\u001b[0m         \u001b[0mmodel\u001b[0m\u001b[0;34m.\u001b[0m\u001b[0mtrain\u001b[0m\u001b[0;34m(\u001b[0m\u001b[0;34m)\u001b[0m\u001b[0;34m\u001b[0m\u001b[0;34m\u001b[0m\u001b[0m\n\u001b[0;32m---> 16\u001b[0;31m         \u001b[0mx\u001b[0m\u001b[0;34m,\u001b[0m \u001b[0my\u001b[0m \u001b[0;34m=\u001b[0m \u001b[0mx\u001b[0m\u001b[0;34m.\u001b[0m\u001b[0mto\u001b[0m\u001b[0;34m(\u001b[0m\u001b[0mdevice\u001b[0m\u001b[0;34m)\u001b[0m\u001b[0;34m,\u001b[0m \u001b[0my\u001b[0m\u001b[0;34m.\u001b[0m\u001b[0mto\u001b[0m\u001b[0;34m(\u001b[0m\u001b[0mdevice\u001b[0m\u001b[0;34m)\u001b[0m\u001b[0;34m\u001b[0m\u001b[0;34m\u001b[0m\u001b[0m\n\u001b[0m\u001b[1;32m     17\u001b[0m         \u001b[0mlogits\u001b[0m \u001b[0;34m=\u001b[0m \u001b[0mmodel\u001b[0m\u001b[0;34m(\u001b[0m\u001b[0mx\u001b[0m\u001b[0;34m)\u001b[0m\u001b[0;34m\u001b[0m\u001b[0;34m\u001b[0m\u001b[0m\n\u001b[1;32m     18\u001b[0m         \u001b[0mloss\u001b[0m \u001b[0;34m=\u001b[0m \u001b[0mF\u001b[0m\u001b[0;34m.\u001b[0m\u001b[0mcross_entropy\u001b[0m\u001b[0;34m(\u001b[0m\u001b[0mlogits\u001b[0m\u001b[0;34m.\u001b[0m\u001b[0mflatten\u001b[0m\u001b[0;34m(\u001b[0m\u001b[0;36m0\u001b[0m\u001b[0;34m,\u001b[0m\u001b[0;36m1\u001b[0m\u001b[0;34m)\u001b[0m\u001b[0;34m,\u001b[0m \u001b[0my\u001b[0m\u001b[0;34m.\u001b[0m\u001b[0mflatten\u001b[0m\u001b[0;34m(\u001b[0m\u001b[0;34m)\u001b[0m\u001b[0;34m)\u001b[0m\u001b[0;34m\u001b[0m\u001b[0;34m\u001b[0m\u001b[0m\n",
            "\u001b[0;31mKeyboardInterrupt\u001b[0m: "
          ]
        }
      ]
    },
    {
      "cell_type": "markdown",
      "source": [
        "# Inference"
      ],
      "metadata": {
        "id": "f6jaYAGiRki9"
      }
    },
    {
      "cell_type": "markdown",
      "source": [
        "Lets load the saved model and try to generate some sample text . . ."
      ],
      "metadata": {
        "id": "lfMTfPNTAvAn"
      }
    },
    {
      "cell_type": "code",
      "source": [
        "state_dict = torch.load(\"model.pth\", map_location=device, weights_only=True)\n",
        "model.load_state_dict(state_dict)"
      ],
      "metadata": {
        "colab": {
          "base_uri": "https://localhost:8080/"
        },
        "id": "85I9TORtrH49",
        "outputId": "f7b69af3-7a1f-4d41-d23d-7f86079860a8"
      },
      "execution_count": 7,
      "outputs": [
        {
          "output_type": "execute_result",
          "data": {
            "text/plain": [
              "<All keys matched successfully>"
            ]
          },
          "metadata": {},
          "execution_count": 7
        }
      ]
    },
    {
      "cell_type": "code",
      "source": [
        "print(generate(model, tokenizer, \"Once upon a time\"))"
      ],
      "metadata": {
        "colab": {
          "base_uri": "https://localhost:8080/"
        },
        "id": "8Hsy5eXhAr1b",
        "outputId": "bc45aa4c-ee7c-45cc-d543-de403996adf5"
      },
      "execution_count": 8,
      "outputs": [
        {
          "output_type": "stream",
          "name": "stdout",
          "text": [
            "Once upon a time of the first time . The first time of the\n"
          ]
        }
      ]
    },
    {
      "cell_type": "code",
      "source": [
        "print(generate(model, tokenizer, \"Internet is an\"))"
      ],
      "metadata": {
        "colab": {
          "base_uri": "https://localhost:8080/"
        },
        "id": "LLOXDBDZA2NF",
        "outputId": "bbb8dd61-bfec-4a55-9896-ba6a63d59be7"
      },
      "execution_count": 9,
      "outputs": [
        {
          "output_type": "stream",
          "name": "stdout",
          "text": [
            "Internet is an important . \n",
            "\n",
            "\n",
            " The first time , and\n"
          ]
        }
      ]
    },
    {
      "cell_type": "code",
      "source": [
        "print(generate(model, tokenizer, \"AI will\"))"
      ],
      "metadata": {
        "colab": {
          "base_uri": "https://localhost:8080/"
        },
        "id": "XymwoieRA5ul",
        "outputId": "7cd845a0-fef2-4643-eef9-652efd1fe53e"
      },
      "execution_count": 10,
      "outputs": [
        {
          "output_type": "stream",
          "name": "stdout",
          "text": [
            "AI will be a new of the first time of the first\n"
          ]
        }
      ]
    },
    {
      "cell_type": "code",
      "source": [
        "print(generate(model, tokenizer, \"The meaning of life is\"))"
      ],
      "metadata": {
        "colab": {
          "base_uri": "https://localhost:8080/"
        },
        "id": "S3ECNjClA6Jh",
        "outputId": "c23203ac-2f1a-42c5-db9d-2b0e892f4272"
      },
      "execution_count": 11,
      "outputs": [
        {
          "output_type": "stream",
          "name": "stdout",
          "text": [
            "The meaning of life is a large @-@ century . The first time\n"
          ]
        }
      ]
    },
    {
      "cell_type": "markdown",
      "source": [
        "From the output, its obvious that the generations are not very good. Time to introduce some randomness.\n",
        "\n",
        "Instead of using the largest probability everytime, we can sample the next token index from a distribution where the chance of drawing a index is directly proportional to its probility. Here we will need two steps:\n",
        "1. Turn `logits` in to probabilities\n",
        "2. Draw next token index from a distribution based on above probabilities.\n",
        "\n",
        "**Note**: An added benefit of drawing from a distributions is randomness . Everytime you run the cell, you will see different output text generated."
      ],
      "metadata": {
        "id": "inuvMoVf7d8_"
      }
    },
    {
      "cell_type": "code",
      "source": [
        "@torch.no_grad()\n",
        "def generate(model, tokenizer, prefix, max_new_tokens=10):\n",
        "    model.eval()\n",
        "    token_ids = torch.tensor(tokenizer.encode(prefix), device=device).unsqueeze(0)\n",
        "    for _ in range(max_new_tokens):\n",
        "        logits = model(token_ids)\n",
        "        logits = logits[:, -1, :]\n",
        "        probs = torch.softmax(logits, dim=-1)  # <-- update\n",
        "        next_idx = torch.multinomial(probs, num_samples=1) # <-- update\n",
        "        prefix += tokenizer.decode([next_idx])\n",
        "        token_ids = torch.cat((token_ids, next_idx), dim=1)\n",
        "    return prefix"
      ],
      "metadata": {
        "id": "U4i8Ajb97pTb"
      },
      "execution_count": 12,
      "outputs": []
    },
    {
      "cell_type": "code",
      "source": [
        "print(generate(model, tokenizer, \"Once upon a time\"))"
      ],
      "metadata": {
        "colab": {
          "base_uri": "https://localhost:8080/"
        },
        "id": "4-I0a33CSH2P",
        "outputId": "cb21a64f-b9fd-4134-a38e-7dc4b12f78b8"
      },
      "execution_count": 19,
      "outputs": [
        {
          "output_type": "stream",
          "name": "stdout",
          "text": [
            "Once upon a time used location amusement sevent Charles Bis chaired ap called\n"
          ]
        }
      ]
    },
    {
      "cell_type": "code",
      "source": [
        "print(generate(model, tokenizer, \"Internet is an\"))"
      ],
      "metadata": {
        "colab": {
          "base_uri": "https://localhost:8080/"
        },
        "id": "dARMctGkSKSN",
        "outputId": "789bb09c-0c5e-4aab-d0e7-b7881975a804"
      },
      "execution_count": 20,
      "outputs": [
        {
          "output_type": "stream",
          "name": "stdout",
          "text": [
            "Internet is an flawed to them into a minimum . Some symptoms recommendations\n"
          ]
        }
      ]
    },
    {
      "cell_type": "code",
      "source": [
        "print(generate(model, tokenizer, \"AI will\"))"
      ],
      "metadata": {
        "colab": {
          "base_uri": "https://localhost:8080/"
        },
        "id": "mBzX9tAaSK59",
        "outputId": "ffae5962-d3de-423a-c8a5-6faab2df21e6"
      },
      "execution_count": 21,
      "outputs": [
        {
          "output_type": "stream",
          "name": "stdout",
          "text": [
            "AI will pull . In 16 May 21 , dominated to oppose\n"
          ]
        }
      ]
    },
    {
      "cell_type": "code",
      "source": [
        "print(generate(model, tokenizer, \"The meaning of life is\"))"
      ],
      "metadata": {
        "colab": {
          "base_uri": "https://localhost:8080/"
        },
        "id": "tpRk5nB7-Ofb",
        "outputId": "7073f538-a921-4dbe-9ee6-3b1d2f006f67"
      },
      "execution_count": 22,
      "outputs": [
        {
          "output_type": "stream",
          "name": "stdout",
          "text": [
            "The meaning of life is Prague ) . On from Dting daily him ,\n"
          ]
        }
      ]
    },
    {
      "cell_type": "markdown",
      "source": [
        "Another good to have *nobe* is `temperature`. This controls how pointy the softmax input are."
      ],
      "metadata": {
        "id": "x7M3N364Tw5E"
      }
    },
    {
      "cell_type": "code",
      "source": [
        "@torch.no_grad()\n",
        "def generate(model, tokenizer, prefix, max_new_tokens=10, temp=1.0):\n",
        "    model.eval()\n",
        "    token_ids = torch.tensor(tokenizer.encode(prefix), device=device).unsqueeze(0)\n",
        "    for _ in range(max_new_tokens):\n",
        "        logits = model(token_ids)\n",
        "        logits = logits[:, -1, :]\n",
        "        probs = torch.softmax(logits / temp, dim=-1)  # <-- update: scale using temp\n",
        "        next_idx = torch.multinomial(probs, num_samples=1)\n",
        "        prefix += tokenizer.decode([next_idx])\n",
        "        token_ids = torch.cat((token_ids, next_idx), dim=1)\n",
        "    return prefix"
      ],
      "metadata": {
        "id": "IJG1tx1KTwZe"
      },
      "execution_count": 23,
      "outputs": []
    },
    {
      "cell_type": "markdown",
      "source": [
        "Heres the rational behind `temperature` and how its related to creativity"
      ],
      "metadata": {
        "id": "Gw1mEMF4c4kD"
      }
    },
    {
      "cell_type": "code",
      "source": [
        "import matplotlib.pyplot as plt\n",
        "\n",
        "logits = torch.randn(4, 32)\n",
        "plt.plot(torch.softmax(logits[0], dim=-1)      , label=\"No Temperature\")\n",
        "plt.plot(torch.softmax(logits[0] / 0.5, dim=-1), label=\"0.5 Temperature\")\n",
        "plt.plot(torch.softmax(logits[0] / 4 , dim=-1) , label=\"2 Temperature\")\n",
        "plt.legend()"
      ],
      "metadata": {
        "colab": {
          "base_uri": "https://localhost:8080/",
          "height": 447
        },
        "id": "B8oqvLIac2VP",
        "outputId": "cb2a9c88-568f-4842-bef0-a026ba62fedb"
      },
      "execution_count": 30,
      "outputs": [
        {
          "output_type": "execute_result",
          "data": {
            "text/plain": [
              "<matplotlib.legend.Legend at 0x7c3bca60aa90>"
            ]
          },
          "metadata": {},
          "execution_count": 30
        },
        {
          "output_type": "display_data",
          "data": {
            "text/plain": [
              "<Figure size 640x480 with 1 Axes>"
            ],
            "image/png": "[encoded data removed]"
          },
          "metadata": {}
        }
      ]
    },
    {
      "cell_type": "markdown",
      "source": [
        "As you can see,\n",
        "- If `temperature` is small (i.e < 1) (say ~0.5) then the logits values become large and softmax output is pointy. Hence we will only have a few tokens with very high probability.\n",
        "- If `temperature` is large (i.e., > 1) then logit values become small and softmax output is quite evenly distributed. As a result, the we will have multiple small peaks indicating numerous choice of next tokens."
      ],
      "metadata": {
        "id": "oBFaPOtNeQi-"
      }
    },
    {
      "cell_type": "markdown",
      "source": [
        "Yet another improvement is to only use top-k probabilities when choosing the next token"
      ],
      "metadata": {
        "id": "ZP6EIO0hU4EP"
      }
    },
    {
      "cell_type": "code",
      "source": [
        "def topk(logits, k=5):\n",
        "    topk_vals, topk_idxs = torch.topk(logits, k)\n",
        "    probs = torch.zeros_like(logits)\n",
        "    probs[:, topk_idxs] = torch.softmax(topk_vals, dim=-1)\n",
        "    return probs\n",
        "\n",
        "@torch.no_grad()\n",
        "def generate(model, tokenizer, prefix, max_new_tokens=10, temp=1.0):\n",
        "    model.eval()\n",
        "    token_ids = torch.tensor(tokenizer.encode(prefix), device=device).unsqueeze(0)\n",
        "    for _ in range(max_new_tokens):\n",
        "        logits = model(token_ids)\n",
        "        logits = logits[:, -1, :]\n",
        "        probs = topk(logits / temp)  # <-- update: only `topk` probabilities\n",
        "        next_idx = torch.multinomial(probs, num_samples=1)\n",
        "        prefix += tokenizer.decode([next_idx])\n",
        "        token_ids = torch.cat((token_ids, next_idx), dim=1)\n",
        "    return prefix"
      ],
      "metadata": {
        "id": "pZuWr3brU3SP"
      },
      "execution_count": null,
      "outputs": []
    },
    {
      "cell_type": "markdown",
      "source": [
        "### Questions\n",
        "\n",
        "1. Study `softmax`. When to use `0` or `-inf` to mask tokens.\n",
        "    - Can not use `0`, that is only for the probs that we get after softmax operation. That way, we only have to calculate the softmax for topk values.\n",
        "    - Use `-inf` to make the `probs` zeros for that token/value.\n",
        "\n",
        "2. Which approach is accurate and faster: applying softmax to only topk values or all the value after setting the non-topk values to `0`\n",
        "    - Therotically, the softmax is a compute heavy operation. So apply it only on topk values should be faster. Unless, pytorch does some optimization to ignore the `-inf` values."
      ],
      "metadata": {
        "id": "C9GN-loq7JQ6"
      }
    },
    {
      "cell_type": "code",
      "source": [],
      "metadata": {
        "id": "nJMcgQHA7sZg"
      },
      "execution_count": null,
      "outputs": []
    }
  ]
}