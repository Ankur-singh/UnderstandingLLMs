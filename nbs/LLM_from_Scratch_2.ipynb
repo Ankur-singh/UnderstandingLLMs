{
 "cells": [
  {
   "cell_type": "markdown",
   "metadata": {},
   "source": [
    "<a href=\"https://colab.research.google.com/github/Ankur-singh/UnderstandingLLMs/blob/main/nbs/LLM_from_Scratch_2.ipynb\" target=\"_parent\"><img src=\"https://colab.research.google.com/assets/colab-badge.svg\" alt=\"Open In Colab\"/></a>"
   ]
  },
  {
   "cell_type": "markdown",
   "metadata": {},
   "source": [
    "In this notebook, we incorporate architectural improvements to the LLM from the previous part. While code changes are minor, understanding the rationale is crucial. We'll discuss these changes and provide helpful resources:\n",
    "\n",
    "- RMSNorm (instead of LayerNorm)\n",
    "- Pre-LN and Post-LN\n",
    "- Gated FFN - SwiGLU\n",
    "- RoPE\n",
    "- Minor Attention block changes will be discussed in a separate notebook for comparison (Sliding Window, Multimodal, MoE, etc.)."
   ]
  },
  {
   "cell_type": "markdown",
   "metadata": {},
   "source": [
    "# Setup"
   ]
  },
  {
   "cell_type": "markdown",
   "metadata": {},
   "source": [
    "The model architecture is copied directly from Part 1."
   ]
  },
  {
   "cell_type": "code",
   "execution_count": null,
   "metadata": {},
   "outputs": [],
   "source": [
    "!pip install -Uq torch\n",
    "!pip install -Uq datasets tiktoken"
   ]
  },
  {
   "cell_type": "code",
   "execution_count": null,
   "metadata": {},
   "outputs": [],
   "source": [
    "import torch\n",
    "import torch.nn as nn\n",
    "import torch.nn.functional as F\n",
    "from torch.utils.data import Dataset, DataLoader\n",
    "\n",
    "# Misc\n",
    "import math\n",
    "import tiktoken\n",
    "from tqdm.notebook import tqdm\n",
    "from datasets import load_dataset\n",
    "from dataclasses import dataclass\n",
    "from prettytable import PrettyTable"
   ]
  },
  {
   "cell_type": "code",
   "execution_count": null,
   "metadata": {},
   "outputs": [],
   "source": [
    "class MultiheadAttention(nn.Module):\n",
    "    def __init__(self, emb_dim, heads, context):\n",
    "        super().__init__()\n",
    "        assert emb_dim % heads == 0, \"`emb_dim` should be a multiple of `heads`\"\n",
    "        self.context = context\n",
    "        self.mha = nn.MultiheadAttention(emb_dim, heads, batch_first=True, bias=False)\n",
    "        self.register_buffer(\n",
    "            \"mask\", torch.triu(torch.ones(context, context), diagonal=1).bool()\n",
    "        )\n",
    "\n",
    "    def forward(self, x):\n",
    "        batch, seq_len, _ = x.shape\n",
    "        seq_len = min(seq_len, self.context)\n",
    "        attn_mask = self.mask[:seq_len, :seq_len]\n",
    "        attn_out, _ = self.mha(x, x, x, attn_mask=attn_mask, need_weights=False)\n",
    "        return attn_out\n",
    "\n",
    "\n",
    "class Block(nn.Module):\n",
    "    def __init__(self, emb_dim, heads, context):\n",
    "        super().__init__()\n",
    "        self.mha = MultiheadAttention(emb_dim, heads, context)\n",
    "        self.mlp = nn.Sequential(\n",
    "            nn.Linear(emb_dim, 4 * emb_dim), nn.GELU(), nn.Linear(4 * emb_dim, emb_dim)\n",
    "        )\n",
    "        self.mha_norm = nn.LayerNorm(emb_dim)\n",
    "        self.mlp_norm = nn.LayerNorm(emb_dim)\n",
    "\n",
    "    def forward(self, x):\n",
    "        x = x + self.mha(self.mha_norm(x))\n",
    "        x = x + self.mlp(self.mlp_norm(x))\n",
    "        return x\n",
    "\n",
    "\n",
    "class GPT(nn.Module):\n",
    "    def __init__(self, config):\n",
    "        super().__init__()\n",
    "        self.pos_embedding = nn.Embedding(config.context, config.emb_dim)\n",
    "        self.tok_embedding = nn.Embedding(config.vocab, config.emb_dim)\n",
    "        self.decoder = nn.Sequential(\n",
    "            *[\n",
    "                Block(config.emb_dim, config.heads, config.context)\n",
    "                for _ in range(config.layers)\n",
    "            ]\n",
    "        )\n",
    "        self.output = nn.Linear(config.emb_dim, config.vocab, bias=False)\n",
    "        self.norm = nn.LayerNorm(config.emb_dim)\n",
    "\n",
    "    def forward(self, x):\n",
    "        batch, seq_len = x.shape\n",
    "        pos = torch.arange(seq_len, device=x.device)\n",
    "        x = self.tok_embedding(x) + self.pos_embedding(pos)\n",
    "        x = self.decoder(x)\n",
    "        return self.output(self.norm(x))\n",
    "\n",
    "    @property\n",
    "    def device(self):\n",
    "        return next(self.parameters()).device"
   ]
  },
  {
   "cell_type": "code",
   "execution_count": null,
   "metadata": {},
   "outputs": [],
   "source": [
    "# Utility Function: Number of Trainable Parameters\n",
    "def count_parameters(model, verbose=False):\n",
    "    if verbose:\n",
    "        table = PrettyTable([\"Module\", \"Parameters\"])\n",
    "        total = 0\n",
    "        for name, param in model.named_parameters():\n",
    "            if param.requires_grad:\n",
    "                count = param.numel()\n",
    "                table.add_row([name, count])\n",
    "                total += count\n",
    "        print(table)\n",
    "    else:\n",
    "        total = sum(p.numel() for p in model.parameters() if p.requires_grad)\n",
    "    print(f\"Total Trainable Params: {total / 1e6:.2f} M\")"
   ]
  },
  {
   "cell_type": "code",
   "execution_count": null,
   "metadata": {},
   "outputs": [],
   "source": [
    "device = \"cuda\" if torch.cuda.is_available() else \"cpu\"\n",
    "\n",
    "\n",
    "@dataclass\n",
    "class ModelConfig:\n",
    "    # GPT2 architecture\n",
    "    vocab: int = math.ceil(50_257 / 64) * 64  # nearest multiple of 64\n",
    "    emb_dim: int = 768\n",
    "    heads: int = 12\n",
    "    layers: int = 12\n",
    "    context: int = 1024"
   ]
  },
  {
   "cell_type": "code",
   "execution_count": null,
   "metadata": {},
   "outputs": [],
   "source": [
    "model = GPT(ModelConfig)\n",
    "model = model.to(device)\n",
    "count_parameters(model)"
   ]
  },
  {
   "cell_type": "markdown",
   "metadata": {},
   "source": [
    "# 1. RMSNorm"
   ]
  },
  {
   "cell_type": "markdown",
   "metadata": {},
   "source": [
    "This is a simple change: replace `nn.LayerNorm` with `nn.RMSNorm`, which applies Root Mean Square Layer Normalization over a mini-batch of inputs.\n",
    "\n",
    "* Learn more from the [PyTorch RMSNorm docs](https://pytorch.org/docs/stable/generated/torch.nn.RMSNorm.html).\n",
    "* For deeper insights and empirical results, see the [RMSNorm paper](https://arxiv.org/pdf/1910.07467).\n"
   ]
  },
  {
   "cell_type": "markdown",
   "metadata": {},
   "source": [
    "# 2. Post / Pre Normalization"
   ]
  },
  {
   "cell_type": "markdown",
   "metadata": {},
   "source": [
    "The original Transformer (from the *\"Attention Is All You Need\"* paper) placed normalization layers **after** the attention and feedforward modules—this is known as **Post-Norm**.\n",
    "\n",
    "GPT and most later LLMs use **Pre-Norm**, placing normalization layers **before** these modules.\n",
    "\n",
    "In [2020, Xiong et al.](https://arxiv.org/abs/2002.04745) showed that Pre-Norm leads to more stable gradients at initialization and can perform well without careful learning rate warm-up—unlike Post-Norm.\n",
    "\n",
    "From an implementation standpoint, the change is minor: just swap the order of operations.\n",
    "\n",
    "> **Note:** We're already using Pre-Norm here, so no code changes are needed."
   ]
  },
  {
   "cell_type": "code",
   "execution_count": null,
   "metadata": {},
   "outputs": [],
   "source": [
    "# Post Norm\n",
    "class BlockPostNorm(Block):\n",
    "    def forward(self, x):\n",
    "        x = x + self.mha_norm(self.mha(x))\n",
    "        x = x + self.mlp_norm(self.nlp(x))\n",
    "\n",
    "\n",
    "# Pre Norm\n",
    "class BlockPostNorm(Block):\n",
    "    def forward(self, x):\n",
    "        x = x + self.mha(self.mha_norm(x))\n",
    "        x = x + self.mlp(self.nlp_norm(x))"
   ]
  },
  {
   "cell_type": "markdown",
   "metadata": {},
   "source": [
    "# 3. SwiGLU"
   ]
  },
  {
   "cell_type": "markdown",
   "metadata": {},
   "source": [
    "Again, this is a small change to the FFN in the transformer block. Instead of a two-layer feedforward network with GeLU activation, we use SwiGLU.\n",
    "\n",
    "It’s a short and easy-to-read paper: [GLU Variants Improve Transformer](https://arxiv.org/pdf/2002.05202)\n",
    "\n"
   ]
  },
  {
   "cell_type": "code",
   "execution_count": null,
   "metadata": {},
   "outputs": [],
   "source": [
    "class GatedFFN(nn.Module):\n",
    "    def __init__(self, emb_dim):\n",
    "        super().__init__()\n",
    "        self.w1 = nn.Linear(emb_dim, 4 * int(2 / 3 * emb_dim), bias=False)\n",
    "        self.w3 = nn.Linear(emb_dim, 4 * int(2 / 3 * emb_dim), bias=False)\n",
    "        self.w2 = nn.Linear(4 * int(2 / 3 * emb_dim), emb_dim, bias=False)\n",
    "        self.silu_act = nn.SiLU()\n",
    "\n",
    "    def forward(self, x):\n",
    "        x = self.silu_act(self.w1(x)) * self.w3(x)\n",
    "        return self.w2(x)"
   ]
  },
  {
   "cell_type": "markdown",
   "metadata": {},
   "source": [
    "Here's an excerpt from the paper explaining the rationale behind the `2/3` scaling factor. However, you can choose to ignore it—it was used mainly for apples-to-apples comparison in the paper.\n"
   ]
  },
  {
   "cell_type": "markdown",
   "metadata": {},
   "source": [
    "![image.png](data:image/png;base64,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)"
   ]
  },
  {
   "cell_type": "markdown",
   "metadata": {},
   "source": [
    "At this point, the updated Transformer block (aka `Block` class) looks like this:"
   ]
  },
  {
   "cell_type": "code",
   "execution_count": null,
   "metadata": {},
   "outputs": [],
   "source": [
    "class Block(nn.Module):\n",
    "    def __init__(self, emb_dim, heads, context):\n",
    "        super().__init__()\n",
    "        self.mha = MultiheadAttention(emb_dim, heads, context)\n",
    "        self.mlp = GatedFFN(emb_dim)  # <--- update\n",
    "        self.mha_norm = nn.RMSNorm(emb_dim)  # <--- update\n",
    "        self.mlp_norm = nn.RMSNorm(emb_dim)  # <--- update\n",
    "\n",
    "    def forward(self, x):\n",
    "        x = x + self.mha(self.mha_norm(x))\n",
    "        x = x + self.mlp(self.mlp_norm(x))\n",
    "        return x"
   ]
  },
  {
   "cell_type": "markdown",
   "metadata": {},
   "source": [
    "# 4. RoPE"
   ]
  },
  {
   "cell_type": "markdown",
   "metadata": {},
   "source": [
    "In the basic implementation, we use absolute position embeddings, as introduced in the original paper. However, things have evolved, and the current norm is to use relative position embeddings. Among various approaches, RoPE has become the dominant choice.\n",
    "\n",
    "Incorporating RoPE requires more than just a few line changes. It might seem overwhelming, but it’s quite simple once you understand it. We essentially apply a transformation to our `Q` and `K` vectors before the attention operation.\n",
    "\n",
    "Let’s first define the transformation.\n"
   ]
  },
  {
   "cell_type": "code",
   "execution_count": null,
   "metadata": {},
   "outputs": [],
   "source": [
    "def compute_freqs(dim, context_length, base=10_000):\n",
    "    assert dim % 2 == 0, \"Embedding dimension should be even\"\n",
    "    inv_freq = 1.0 / (\n",
    "        base ** (torch.arange(0, dim, 2).float() / dim)\n",
    "    )  # shape: (1, dim//2)\n",
    "    pos_ids = torch.arange(context_length)  # shape: (context_len)\n",
    "    thetas = pos_ids.unsqueeze(1) * inv_freq  # shape: (context_len, dim//2)\n",
    "    thetas = torch.cat([thetas, thetas], dim=1)  # shape: (context_len, dim)\n",
    "    return thetas.cos(), thetas.sin()\n",
    "\n",
    "\n",
    "def apply_rope(x, cos, sin):\n",
    "    batch_size, heads, seq_len, emb_dim = x.shape\n",
    "    x1, x2 = x[..., : emb_dim // 2], x[..., emb_dim // 2 :]\n",
    "    rotated = torch.cat([-x2, x1], dim=-1)\n",
    "    cos, sin = cos[:seq_len, :], sin[:seq_len, :]\n",
    "    x_rotated = (x * cos) + (rotated * sin)\n",
    "    return x_rotated.to(dtype=x.dtype)"
   ]
  },
  {
   "cell_type": "markdown",
   "metadata": {},
   "source": [
    "If the above code looks cryptic, please refer to my detailed notebook on RoPE. It implements RoPE in gradual steps to build better intuition, includes visuals, and compares different implementations.\n",
    "\n",
    "**Note:** Here, we follow the HuggingFace implementation of RoPE, as I plan to load the model weights from HF.\n",
    "\n",
    "An important point about RoPE: unlike positional embeddings added once at the beginning, RoPE is applied in every transformer block."
   ]
  },
  {
   "cell_type": "code",
   "execution_count": null,
   "metadata": {},
   "outputs": [],
   "source": [
    "class MultiheadAttention(nn.Module):\n",
    "    def __init__(self, emb_dim, heads, context):\n",
    "        super().__init__()\n",
    "        assert emb_dim % heads == 0, \"`emb_dim` should be a multiple of `heads`\"\n",
    "        self.heads = heads\n",
    "        self.head_dim = emb_dim // heads\n",
    "        self.qkv_proj = nn.Linear(emb_dim, 3 * emb_dim, bias=False)\n",
    "        self.out_proj = nn.Linear(emb_dim, emb_dim, bias=False)\n",
    "        # RoPE and Casual Mask\n",
    "        cos, sin = compute_freqs(self.head_dim, context)\n",
    "        self.register_buffer(\"cos\", cos)\n",
    "        self.register_buffer(\"sin\", sin)\n",
    "        self.register_buffer(\n",
    "            \"mask\", torch.triu(torch.ones(context, context), diagonal=1).bool()\n",
    "        )\n",
    "\n",
    "    def forward(self, x):\n",
    "        batch, seq_len, emb_dim = x.shape\n",
    "        qkv = self.qkv_proj(x)\n",
    "        qkv = qkv.view(batch, seq_len, 3, self.heads, self.head_dim)\n",
    "        q, k, v = qkv.permute(2, 0, 3, 1, 4)  # (3, batch, heads, seq_len, dim)\n",
    "        q, k = apply_rope(q, self.cos, self.sin), apply_rope(k, self.cos, self.sin)\n",
    "        attn = (q @ k.mT) / (self.head_dim**0.5)\n",
    "        mask = self.mask[:seq_len, :seq_len]\n",
    "        attn = attn.masked_fill(mask, float(\"-inf\"))\n",
    "        attn_out = torch.softmax(attn, dim=-1) @ v\n",
    "        attn_out = attn_out.transpose(1, 2)\n",
    "        attn_out = attn_out.reshape(batch, seq_len, -1)\n",
    "        return self.out_proj(attn_out)\n",
    "\n",
    "\n",
    "class Block(nn.Module):\n",
    "    def __init__(self, emb_dim, heads, context):\n",
    "        super().__init__()\n",
    "        self.mha = MultiheadAttention(emb_dim, heads, context)\n",
    "        self.mlp = GatedFFN(emb_dim)\n",
    "        self.mha_norm = nn.RMSNorm(emb_dim)\n",
    "        self.mlp_norm = nn.RMSNorm(emb_dim)\n",
    "\n",
    "    def forward(self, x):\n",
    "        x = x + self.mha(self.mha_norm(x))\n",
    "        x = x + self.mlp(self.mlp_norm(x))\n",
    "        return x\n",
    "\n",
    "\n",
    "class GPT(nn.Module):\n",
    "    def __init__(self, config):\n",
    "        super().__init__()\n",
    "        # self.pos_embedding = nn.Embedding(config.context, config.emb_dim) # <--- update\n",
    "        self.tok_embedding = nn.Embedding(config.vocab, config.emb_dim)\n",
    "        self.decoder = nn.Sequential(\n",
    "            *[\n",
    "                Block(config.emb_dim, config.heads, config.context)\n",
    "                for _ in range(config.layers)\n",
    "            ]\n",
    "        )\n",
    "        self.output = nn.Linear(config.emb_dim, config.vocab, bias=False)\n",
    "        self.norm = nn.RMSNorm(config.emb_dim)  # <--- update\n",
    "\n",
    "    def forward(self, x):\n",
    "        batch, seq_len = x.shape\n",
    "        # pos = torch.arange(seq_len, device=x.device)         # <--- update\n",
    "        x = self.tok_embedding(x)  # + self.pos_embedding(pos) # <--- update\n",
    "        x = self.decoder(x)\n",
    "        return self.output(self.norm(x))\n",
    "\n",
    "    @property\n",
    "    def device(self):\n",
    "        return next(self.parameters()).device"
   ]
  },
  {
   "cell_type": "code",
   "execution_count": null,
   "metadata": {},
   "outputs": [],
   "source": [
    "model = GPT(ModelConfig)\n",
    "model = model.to(device)\n",
    "count_parameters(model)"
   ]
  },
  {
   "cell_type": "markdown",
   "metadata": {},
   "source": [
    "We have about 0.85 million fewer parameters, mainly by removing `pos_embedding`. We also eliminated bias in `GatedFFN`, and unlike `LayerNorm`, `RMSNorm` has no bias.\n",
    "\n",
    "With these changes, let’s train the model and see if we get better scores and, consequently, better generations.\n"
   ]
  },
  {
   "cell_type": "markdown",
   "metadata": {},
   "source": [
    "# Training"
   ]
  },
  {
   "cell_type": "code",
   "execution_count": null,
   "metadata": {},
   "outputs": [],
   "source": [
    "tokenizer = tiktoken.get_encoding(\"gpt2\")\n",
    "dataset = load_dataset(\"wikitext\", \"wikitext-2-raw-v1\")\n",
    "\n",
    "val_ds = \"\\n\\n\".join(dataset[\"test\"][\"text\"])\n",
    "train_ds = \"\\n\\n\".join(dataset[\"train\"][\"text\"])\n",
    "\n",
    "val_tokens = tokenizer.encode(val_ds)\n",
    "train_tokens = tokenizer.encode(train_ds)\n",
    "len(val_tokens), len(train_tokens)"
   ]
  },
  {
   "cell_type": "code",
   "execution_count": null,
   "metadata": {},
   "outputs": [],
   "source": [
    "class WikiTextDataset(Dataset):\n",
    "    def __init__(self, tokens, max_len):\n",
    "        self.tokens = tokens\n",
    "        self.max_len = max_len\n",
    "\n",
    "    def __getitem__(self, idx):\n",
    "        idx = idx * self.max_len\n",
    "        x = self.tokens[idx : idx + self.max_len]\n",
    "        y = self.tokens[idx + 1 : idx + 1 + self.max_len]\n",
    "        if len(x) < self.max_len:\n",
    "            x = x + [tokenizer.eot_token] * (self.max_len - len(x))\n",
    "        if len(y) < self.max_len:\n",
    "            y = y + [tokenizer.eot_token] * (self.max_len - len(y))\n",
    "        return (torch.tensor(x), torch.tensor(y))\n",
    "\n",
    "    def __len__(self):\n",
    "        return math.ceil(len(self.tokens) / self.max_len)\n",
    "\n",
    "\n",
    "batch_size = 4\n",
    "val_ds = WikiTextDataset(val_tokens, ModelConfig.context)\n",
    "train_ds = WikiTextDataset(train_tokens, ModelConfig.context)\n",
    "val_dl = DataLoader(val_ds, batch_size=batch_size, shuffle=False, drop_last=True)\n",
    "train_dl = DataLoader(train_ds, batch_size=batch_size, shuffle=True, drop_last=True)"
   ]
  },
  {
   "cell_type": "code",
   "execution_count": null,
   "metadata": {},
   "outputs": [],
   "source": [
    "@torch.no_grad()\n",
    "def generate(model, tokenizer, prefix, max_new_tokens=10, temp=1.0):\n",
    "    model.eval()\n",
    "    token_ids = torch.tensor(tokenizer.encode(prefix), device=device).unsqueeze(0)\n",
    "    for _ in range(max_new_tokens):\n",
    "        logits = model(token_ids)\n",
    "        logits = logits[:, -1, :]\n",
    "        probs = torch.softmax(logits / temp, dim=-1)  # <-- update: scale using temp\n",
    "        next_idx = torch.multinomial(probs, num_samples=1)\n",
    "        prefix += tokenizer.decode([next_idx])\n",
    "        token_ids = torch.cat((token_ids, next_idx), dim=1)\n",
    "    return prefix\n",
    "\n",
    "\n",
    "@torch.no_grad()\n",
    "def evaluate(model, dl):\n",
    "    model.eval()\n",
    "    loss = 0\n",
    "    for x, y in dl:\n",
    "        x, y = x.to(device), y.to(device)\n",
    "        logits = model(x)\n",
    "        loss += F.cross_entropy(logits.flatten(0, 1), y.flatten()).cpu().item()\n",
    "    model.train()\n",
    "    return loss / len(dl)\n",
    "\n",
    "\n",
    "model.to(device)\n",
    "evaluate(model, val_dl)"
   ]
  },
  {
   "cell_type": "code",
   "execution_count": null,
   "metadata": {},
   "outputs": [],
   "source": [
    "prefix = \"Once upon a time\"\n",
    "optimizer = torch.optim.AdamW(model.parameters(), lr=1e-4)\n",
    "log_freq = 40\n",
    "epochs = 2\n",
    "losses = []\n",
    "\n",
    "for epoch in range(epochs):\n",
    "    for i, (x, y) in enumerate(pbar := tqdm(train_dl, desc=\"Training\")):\n",
    "        if i % log_freq == 0:\n",
    "            val_loss = evaluate(model, val_dl)\n",
    "            losses.append(val_loss)\n",
    "            pbar.set_postfix_str(f\"[Epoch {epoch}] Val Loss: {val_loss:.3f}\")\n",
    "            torch.save(model.state_dict(), \"model.pth\")\n",
    "            print(\"=\" * 20)\n",
    "            print(generate(model, tokenizer, prefix))\n",
    "\n",
    "        model.train()\n",
    "        x, y = x.to(device), y.to(device)\n",
    "        logits = model(x)\n",
    "        loss = F.cross_entropy(logits.flatten(0, 1), y.flatten())\n",
    "\n",
    "        optimizer.zero_grad()\n",
    "        loss.backward()\n",
    "        optimizer.step()"
   ]
  },
  {
   "cell_type": "code",
   "execution_count": null,
   "metadata": {},
   "outputs": [],
   "source": [
    "state_dict = torch.load(\"model.pth\", map_location=device, weights_only=True)\n",
    "model.load_state_dict(state_dict)"
   ]
  },
  {
   "cell_type": "code",
   "execution_count": null,
   "metadata": {},
   "outputs": [],
   "source": [
    "print(generate(model, tokenizer, \"Once upon a time\"))\n",
    "print(\"=\" * 15)\n",
    "print(generate(model, tokenizer, \"Internet is an\"))\n",
    "print(\"=\" * 15)\n",
    "print(generate(model, tokenizer, \"AI will\"))\n",
    "print(\"=\" * 15)\n",
    "print(generate(model, tokenizer, \"The meaning of life is\"))"
   ]
  },
  {
   "cell_type": "markdown",
   "metadata": {},
   "source": [
    "# Gradient Accumulation"
   ]
  },
  {
   "cell_type": "markdown",
   "metadata": {},
   "source": [
    "The generations are still not very good. Generally, larger batches help when training LLMs, but we’re limited by memory here.\n",
    "\n",
    "Gradient Accumulation is a simple way to effectively increase the batch size."
   ]
  },
  {
   "cell_type": "code",
   "execution_count": null,
   "metadata": {},
   "outputs": [],
   "source": [
    "model = GPT(ModelConfig)\n",
    "model = model.to(device)"
   ]
  },
  {
   "cell_type": "code",
   "execution_count": null,
   "metadata": {},
   "outputs": [],
   "source": [
    "prefix = \"Once upon a time\"\n",
    "optimizer = torch.optim.AdamW(model.parameters(), lr=1e-4)\n",
    "log_freq = 40\n",
    "epochs = 2\n",
    "losses = []\n",
    "accumulate = 4\n",
    "\n",
    "for epoch in range(epochs):\n",
    "    for i, (x, y) in enumerate(pbar := tqdm(train_dl, desc=\"Training\")):\n",
    "        if i % log_freq == 0:\n",
    "            val_loss = evaluate(model, val_dl)\n",
    "            losses.append(val_loss)\n",
    "            pbar.set_postfix_str(f\"[Epoch {epoch}] Val Loss: {val_loss:.3f}\")\n",
    "            torch.save(model.state_dict(), \"model.pth\")\n",
    "            print(\"=\" * 20)\n",
    "            print(generate(model, tokenizer, prefix))\n",
    "\n",
    "        model.train()\n",
    "        x, y = x.to(device), y.to(device)\n",
    "        logits = model(x)\n",
    "        loss = F.cross_entropy(logits.flatten(0, 1), y.flatten())\n",
    "        loss /= accumulate  # <--- Update\n",
    "\n",
    "        # Backward pass\n",
    "        loss.backward()\n",
    "        if (i + 1) % accumulate == 0:  # <--- Update\n",
    "            optimizer.step()\n",
    "            optimizer.zero_grad(set_to_none=True)"
   ]
  },
  {
   "cell_type": "code",
   "execution_count": null,
   "metadata": {},
   "outputs": [],
   "source": [
    "state_dict = torch.load(\"model.pth\", map_location=device, weights_only=True)\n",
    "model.load_state_dict(state_dict)"
   ]
  },
  {
   "cell_type": "code",
   "execution_count": null,
   "metadata": {},
   "outputs": [],
   "source": [
    "print(generate(model, tokenizer, \"Once upon a time\"))\n",
    "print(\"=\" * 15)\n",
    "print(generate(model, tokenizer, \"Internet is an\"))\n",
    "print(\"=\" * 15)\n",
    "print(generate(model, tokenizer, \"AI will\"))\n",
    "print(\"=\" * 15)\n",
    "print(generate(model, tokenizer, \"The meaning of life is\"))"
   ]
  },
  {
   "cell_type": "markdown",
   "metadata": {},
   "source": [
    "# Automatic Mixed Precision (AMP)"
   ]
  },
  {
   "cell_type": "markdown",
   "metadata": {},
   "source": [
    "AMP is another technique to speed up training by using mixed precision instead of float32. It doesn’t reduce memory much but can speed up training. See the [paper](https://arxiv.org/pdf/1710.03740).\n",
    "\n",
    "In PyTorch, it’s easy to implement: wrap the forward pass in `torch.autocast()`. For the backward pass, scale the loss with `scaler.scale(loss).backward()` and use `scaler.step(optimizer)` instead of `optimizer.step()`.\n"
   ]
  },
  {
   "cell_type": "code",
   "execution_count": null,
   "metadata": {},
   "outputs": [],
   "source": [
    "model = GPT(ModelConfig)\n",
    "model = model.to(device)"
   ]
  },
  {
   "cell_type": "code",
   "execution_count": null,
   "metadata": {},
   "outputs": [],
   "source": [
    "@torch.no_grad()\n",
    "def evaluate(model, dl):\n",
    "    model.eval()\n",
    "    loss = 0\n",
    "    for x, y in dl:\n",
    "        x, y = x.to(device), y.to(device)\n",
    "        with torch.autocast(device_type=device):  # <--- Update\n",
    "            logits = model(x)\n",
    "            loss += F.cross_entropy(logits.flatten(0, 1), y.flatten()).cpu().item()\n",
    "    model.train()\n",
    "    return loss / len(dl)"
   ]
  },
  {
   "cell_type": "code",
   "execution_count": null,
   "metadata": {},
   "outputs": [],
   "source": [
    "prefix = \"Once upon a time\"\n",
    "optimizer = torch.optim.AdamW(model.parameters(), lr=1e-4)\n",
    "log_freq = 40\n",
    "epochs = 2\n",
    "losses = []\n",
    "accumulate = 4\n",
    "scaler = torch.GradScaler()\n",
    "\n",
    "for epoch in range(epochs):\n",
    "    for i, (x, y) in enumerate(pbar := tqdm(train_dl, desc=\"Training\")):\n",
    "        if i % log_freq == 0:\n",
    "            val_loss = evaluate(model, val_dl)\n",
    "            losses.append(val_loss)\n",
    "            pbar.set_postfix_str(f\"[Epoch {epoch}] Val Loss: {val_loss:.3f}\")\n",
    "            torch.save(model.state_dict(), \"model.pth\")\n",
    "            print(\"=\" * 20)\n",
    "            print(generate(model, tokenizer, prefix))\n",
    "\n",
    "        model.train()\n",
    "        x, y = x.to(device), y.to(device)\n",
    "        with torch.autocast(device_type=device):  # <--- Update\n",
    "            logits = model(x)\n",
    "            loss = F.cross_entropy(logits.flatten(0, 1), y.flatten())\n",
    "        loss /= accumulate\n",
    "\n",
    "        # Backward pass\n",
    "        scaler.scale(loss).backward()  # <--- Update\n",
    "        if (i + 1) % accumulate == 0:\n",
    "            scaler.step(optimizer)  # <--- Update\n",
    "            scaler.update()  # <--- Update\n",
    "            optimizer.zero_grad(set_to_none=True)"
   ]
  },
  {
   "cell_type": "code",
   "execution_count": null,
   "metadata": {},
   "outputs": [],
   "source": [
    "state_dict = torch.load(\"model.pth\", map_location=device, weights_only=True)\n",
    "model.load_state_dict(state_dict)"
   ]
  },
  {
   "cell_type": "code",
   "execution_count": null,
   "metadata": {},
   "outputs": [],
   "source": [
    "print(generate(model, tokenizer, \"Once upon a time\"))\n",
    "print(\"=\" * 15)\n",
    "print(generate(model, tokenizer, \"Internet is an\"))\n",
    "print(\"=\" * 15)\n",
    "print(generate(model, tokenizer, \"AI will\"))\n",
    "print(\"=\" * 15)\n",
    "print(generate(model, tokenizer, \"The meaning of life is\"))"
   ]
  },
  {
   "cell_type": "markdown",
   "metadata": {},
   "source": [
    "Another improvement we could add is a learning rate scheduler, but I'll leave that for now. It's also time to add WandB logging to track our training progress."
   ]
  }
 ],
 "metadata": {},
 "nbformat": 4,
 "nbformat_minor": 0
}
